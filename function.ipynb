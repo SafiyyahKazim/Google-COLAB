{
  "nbformat": 4,
  "nbformat_minor": 0,
  "metadata": {
    "colab": {
      "name": "function.ipynb",
      "provenance": [],
      "authorship_tag": "ABX9TyMNozSqp9/aP3+jr2YCD2A8",
      "include_colab_link": true
    },
    "kernelspec": {
      "name": "python3",
      "display_name": "Python 3"
    }
  },
  "cells": [
    {
      "cell_type": "markdown",
      "metadata": {
        "id": "view-in-github",
        "colab_type": "text"
      },
      "source": [
        "<a href=\"https://colab.research.google.com/github/SafiyyahKazim/Google-COLAB/blob/master/function.ipynb\" target=\"_parent\"><img src=\"https://colab.research.google.com/assets/colab-badge.svg\" alt=\"Open In Colab\"/></a>"
      ]
    },
    {
      "cell_type": "code",
      "metadata": {
        "colab": {
          "base_uri": "https://localhost:8080/"
        },
        "id": "w-RFfUpLMgkR",
        "outputId": "19a2e7a6-4e8c-4eef-d9be-cf2399281b41"
      },
      "source": [
        "def greeting():#first line defines our function, using def keyword\n",
        "  \"\"\"This function displays a greeting\"\"\"\n",
        "  #\"\"\"\"called a doc string\n",
        "  print(\"what's up?\")\n",
        "#indented lines that follow after makeuo the body of the function\n",
        "greeting()"
      ],
      "execution_count": 8,
      "outputs": [
        {
          "output_type": "stream",
          "text": [
            "what's up?\n"
          ],
          "name": "stdout"
        }
      ]
    },
    {
      "cell_type": "code",
      "metadata": {
        "colab": {
          "base_uri": "https://localhost:8080/"
        },
        "id": "pcWbCJi6MpvP",
        "outputId": "aa7d9ec6-da1d-47c3-f0b7-5489220d8d95"
      },
      "source": [
        "def greeting(x):\n",
        "  \"\"\"This function displays a greeting\"\"\"\n",
        "  print(\"Hello there, \" + x+ \"!\")\n",
        "greeting('Haley')"
      ],
      "execution_count": 13,
      "outputs": [
        {
          "output_type": "stream",
          "text": [
            "Hello there, Haley!\n"
          ],
          "name": "stdout"
        }
      ]
    },
    {
      "cell_type": "code",
      "metadata": {
        "colab": {
          "base_uri": "https://localhost:8080/"
        },
        "id": "nEuxNv6eN3_3",
        "outputId": "5d515b39-e2bd-4226-a01d-c9b5fce90af5"
      },
      "source": [
        "def greeting_2(first_name, last_name):\n",
        "  \"\"\"Greets someone by first an last name\"\"\"\n",
        "  print(\"Hello there, \" + first_name + \" \" + last_name)\n",
        "greeting_2('Paul','John')"
      ],
      "execution_count": 14,
      "outputs": [
        {
          "output_type": "stream",
          "text": [
            "Hello there, Paul John\n"
          ],
          "name": "stdout"
        }
      ]
    },
    {
      "cell_type": "code",
      "metadata": {
        "colab": {
          "base_uri": "https://localhost:8080/"
        },
        "id": "MmJZ60rVOip-",
        "outputId": "d51f7eb1-c0a6-4ee0-8a72-8f023882590d"
      },
      "source": [
        "def greeting_2(first_name, last_name,age):\n",
        "  print(\"My name is \"+ first_name+ \" \"+ last_name)\n",
        "  print(\"I am \" + str(age)+ \",years old\")\n",
        "greeting_2('Paul','John',43)\n",
        "greeting_2('Sparky','Jack',76)\n"
      ],
      "execution_count": 21,
      "outputs": [
        {
          "output_type": "stream",
          "text": [
            "My name is Paul John\n",
            "I am 43,years old\n",
            "My name is Sparky Jack\n",
            "I am 76,years old\n"
          ],
          "name": "stdout"
        }
      ]
    },
    {
      "cell_type": "code",
      "metadata": {
        "id": "rUWhus4oO2Yn"
      },
      "source": [
        "def greeting(name):\n",
        "  \"\"\"document stuff\"\"\"\n",
        "  print(f'hi there{name}!')"
      ],
      "execution_count": 22,
      "outputs": []
    },
    {
      "cell_type": "code",
      "metadata": {
        "id": "q7ggOIn_Q53p"
      },
      "source": [
        "greeting()"
      ],
      "execution_count": null,
      "outputs": []
    },
    {
      "cell_type": "code",
      "metadata": {
        "colab": {
          "base_uri": "https://localhost:8080/"
        },
        "id": "Z5XDUhvmQ7n7",
        "outputId": "c9f1e620-4f24-4b24-de41-df16d65e0928"
      },
      "source": [
        "def greeting_2(first_name,last_name,age=23):\n",
        "  print(\"My name is \"+ first_name + \" \" + last_name)\n",
        "  print(\"I am \" + str(age) + \", years old\" )\n",
        "greeting_2(first_name='Paul', last_name='John')\n",
        "greeting_2(age=43, first_name='PAUL', last_name='John')"
      ],
      "execution_count": 27,
      "outputs": [
        {
          "output_type": "stream",
          "text": [
            "My name is Paul John\n",
            "I am 23, years old\n",
            "My name is PAUL John\n",
            "I am 43, years old\n"
          ],
          "name": "stdout"
        }
      ]
    },
    {
      "cell_type": "code",
      "metadata": {
        "colab": {
          "base_uri": "https://localhost:8080/"
        },
        "id": "Ds5SCIsQR9ML",
        "outputId": "263cc4b7-50b4-442e-dc4b-834cbabd5fff"
      },
      "source": [
        "def math(number1,number2):\n",
        "  print(number1+number2)\n",
        "math(3,4)"
      ],
      "execution_count": 29,
      "outputs": [
        {
          "output_type": "stream",
          "text": [
            "7\n"
          ],
          "name": "stdout"
        }
      ]
    },
    {
      "cell_type": "code",
      "metadata": {
        "colab": {
          "base_uri": "https://localhost:8080/"
        },
        "id": "9ftAylm6UvXx",
        "outputId": "5e9ffa40-c7ea-4c2a-d687-5b2c89ef275a"
      },
      "source": [
        "def math(number1,number2):\n",
        "  print(number1-number2)\n",
        "math(3,4)"
      ],
      "execution_count": 30,
      "outputs": [
        {
          "output_type": "stream",
          "text": [
            "-1\n"
          ],
          "name": "stdout"
        }
      ]
    },
    {
      "cell_type": "markdown",
      "metadata": {
        "id": "U-PKQ6C-VP-p"
      },
      "source": [
        "basic calculator"
      ]
    },
    {
      "cell_type": "code",
      "metadata": {
        "colab": {
          "base_uri": "https://localhost:8080/"
        },
        "id": "M1aPgslcVSsX",
        "outputId": "0732d120-384b-429c-962c-c4bfa4325bc9"
      },
      "source": [
        "def calculator():\n",
        "#for function\n",
        "  num1 = int(input(\"Enter the first number: \"))\n",
        "#to \n",
        "  num2 = int(input(\"Enter the second number: \"))\n",
        "  operator = input(\"Add, subtract, multiply, or divide: \")\n",
        "  if operator == \"Add\": \n",
        "    return num1 + num2\n",
        "  elif operator == 'Subtract':\n",
        "    return num1 - num2\n",
        "  elif operator =='Multiply':\n",
        "    return num1 * num2\n",
        "  elif operator == \"Divide\":\n",
        "    return num1 / num2\n",
        "calculator()"
      ],
      "execution_count": 36,
      "outputs": [
        {
          "output_type": "stream",
          "text": [
            "Enter the first number: 4\n",
            "Enter the secind number: 6\n",
            "Add, subtract, multiply, or divide: Add\n"
          ],
          "name": "stdout"
        },
        {
          "output_type": "execute_result",
          "data": {
            "text/plain": [
              "10"
            ]
          },
          "metadata": {
            "tags": []
          },
          "execution_count": 36
        }
      ]
    },
    {
      "cell_type": "code",
      "metadata": {
        "id": "H37X1S-1Wzxa"
      },
      "source": [
        ""
      ],
      "execution_count": null,
      "outputs": []
    }
  ]
}