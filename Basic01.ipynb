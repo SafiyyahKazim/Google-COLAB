{
  "nbformat": 4,
  "nbformat_minor": 0,
  "metadata": {
    "colab": {
      "name": "Basic01.ipynb",
      "provenance": [],
      "authorship_tag": "ABX9TyOvgEkO6tHw5cf4npYv1/jZ",
      "include_colab_link": true
    },
    "kernelspec": {
      "name": "python3",
      "display_name": "Python 3"
    }
  },
  "cells": [
    {
      "cell_type": "markdown",
      "metadata": {
        "id": "view-in-github",
        "colab_type": "text"
      },
      "source": [
        "<a href=\"https://colab.research.google.com/github/SafiyyahKazim/Google-COLAB/blob/master/Basic01.ipynb\" target=\"_parent\"><img src=\"https://colab.research.google.com/assets/colab-badge.svg\" alt=\"Open In Colab\"/></a>"
      ]
    },
    {
      "cell_type": "markdown",
      "metadata": {
        "id": "syFn-5uWMNZn"
      },
      "source": [
        "Create five variables"
      ]
    },
    {
      "cell_type": "code",
      "metadata": {
        "id": "uR8oZjLgYUw7"
      },
      "source": [
        "import math"
      ],
      "execution_count": null,
      "outputs": []
    },
    {
      "cell_type": "code",
      "metadata": {
        "id": "a5iapj4CLuZx"
      },
      "source": [
        "first_name=\"Safiyyah\"\n",
        "firstName=\"Sarah\"\n",
        "FirstName=\"Sukhyang\"\n",
        "FIRSTNAME=\"ACE\""
      ],
      "execution_count": null,
      "outputs": []
    },
    {
      "cell_type": "code",
      "metadata": {
        "colab": {
          "base_uri": "https://localhost:8080/"
        },
        "id": "fnPNi9W0M-p-",
        "outputId": "026065f6-0e2d-4b6a-f1a7-0a7914693b91"
      },
      "source": [
        "print(first_name)\n",
        "print(firstName)\n",
        "print(FirstName)\n",
        "print(FIRSTNAME)"
      ],
      "execution_count": null,
      "outputs": [
        {
          "output_type": "stream",
          "text": [
            "Safiyyah\n",
            "Sarah\n",
            "Sukhyang\n",
            "ACE\n"
          ],
          "name": "stdout"
        }
      ]
    },
    {
      "cell_type": "markdown",
      "metadata": {
        "id": "6fv11rGSN0HL"
      },
      "source": [
        "Create 10 Last Name Variables\n"
      ]
    },
    {
      "cell_type": "code",
      "metadata": {
        "id": "RpiARZLhN3wh"
      },
      "source": [
        "lastname = \"Kazim\"\n",
        "last_name = \"Mendez\"\n",
        "LastName = \"Canalizo\"\n",
        "Last_Name = \"Jeong\"\n",
        "LASTNAME = \"De La Cruz\"\n",
        "Lastname = \"May\"\n",
        "lastName = \"Lopez\"\n",
        "last_Name = \"Britt\"\n",
        "LAST_NAME = \"Kang\"\n",
        "name_last=\"Chu\"\n",
        "\n",
        "\n",
        "\n",
        "\n"
      ],
      "execution_count": null,
      "outputs": []
    },
    {
      "cell_type": "code",
      "metadata": {
        "colab": {
          "base_uri": "https://localhost:8080/"
        },
        "id": "LdoCG3VvOt8f",
        "outputId": "1bb02a1d-55b4-4d84-a57a-24ee99cfaab7"
      },
      "source": [
        "print(lastname)\n",
        "print(last_name)\n",
        "print(LastName)\n",
        "print(Last_Name)\n",
        "print(LASTNAME)\n",
        "print(LastName)\n",
        "print(Lastname)\n",
        "print(last_name)\n",
        "print(LAST_NAME)\n",
        "print(name_last)"
      ],
      "execution_count": null,
      "outputs": [
        {
          "output_type": "stream",
          "text": [
            "Kazim\n",
            "Mendez\n",
            "Canalizo\n",
            "Jeong\n",
            "De La Cruz\n",
            "Canalizo\n",
            "May\n",
            "Mendez\n",
            "Kang\n",
            "Chu\n"
          ],
          "name": "stdout"
        }
      ]
    },
    {
      "cell_type": "code",
      "metadata": {
        "id": "p_srtF_1QT-v"
      },
      "source": [
        "num = 10"
      ],
      "execution_count": null,
      "outputs": []
    },
    {
      "cell_type": "code",
      "metadata": {
        "colab": {
          "base_uri": "https://localhost:8080/"
        },
        "id": "eGbc9X6bQcbX",
        "outputId": "b2c2ae6a-f298-429c-d954-a01fdf00cf30"
      },
      "source": [
        " print(first_name)"
      ],
      "execution_count": null,
      "outputs": [
        {
          "output_type": "stream",
          "text": [
            "Safiyyah\n"
          ],
          "name": "stdout"
        }
      ]
    },
    {
      "cell_type": "code",
      "metadata": {
        "id": "L6npja18X-tM"
      },
      "source": [
        "first_name=90"
      ],
      "execution_count": null,
      "outputs": []
    },
    {
      "cell_type": "code",
      "metadata": {
        "colab": {
          "base_uri": "https://localhost:8080/"
        },
        "id": "Vcbb6JsqQi84",
        "outputId": "8597c886-8115-4848-817c-84576ca67b40"
      },
      "source": [
        "print(first_name)"
      ],
      "execution_count": null,
      "outputs": [
        {
          "output_type": "stream",
          "text": [
            "90\n"
          ],
          "name": "stdout"
        }
      ]
    },
    {
      "cell_type": "markdown",
      "metadata": {
        "id": "xLYtNkYlYCvJ"
      },
      "source": [
        "Data Types"
      ]
    },
    {
      "cell_type": "code",
      "metadata": {
        "id": "WGtMDKtWX6g7"
      },
      "source": [
        "num5 = 12.900900090909090909"
      ],
      "execution_count": null,
      "outputs": []
    },
    {
      "cell_type": "code",
      "metadata": {
        "colab": {
          "base_uri": "https://localhost:8080/"
        },
        "id": "ujS5AjPXYNyf",
        "outputId": "05e2b5be-d933-417d-e7fd-58eb0e2915cf"
      },
      "source": [
        "num5"
      ],
      "execution_count": null,
      "outputs": [
        {
          "output_type": "execute_result",
          "data": {
            "text/plain": [
              "12.90090009090909"
            ]
          },
          "metadata": {
            "tags": []
          },
          "execution_count": 45
        }
      ]
    },
    {
      "cell_type": "code",
      "metadata": {
        "colab": {
          "base_uri": "https://localhost:8080/"
        },
        "id": "xyhjSdqyYeXb",
        "outputId": "efb65f75-07f1-494b-f975-d3948ef19d9c"
      },
      "source": [
        "math.pi"
      ],
      "execution_count": null,
      "outputs": [
        {
          "output_type": "execute_result",
          "data": {
            "text/plain": [
              "3.141592653589793"
            ]
          },
          "metadata": {
            "tags": []
          },
          "execution_count": 46
        }
      ]
    },
    {
      "cell_type": "code",
      "metadata": {
        "id": "WTi71RUGYqW0"
      },
      "source": [
        "game=True"
      ],
      "execution_count": null,
      "outputs": []
    },
    {
      "cell_type": "code",
      "metadata": {
        "colab": {
          "base_uri": "https://localhost:8080/"
        },
        "id": "fJAIohN2Y6fu",
        "outputId": "bcaf7707-67a3-4265-b660-dceb42cc9f2c"
      },
      "source": [
        "type(num5)"
      ],
      "execution_count": null,
      "outputs": [
        {
          "output_type": "execute_result",
          "data": {
            "text/plain": [
              "float"
            ]
          },
          "metadata": {
            "tags": []
          },
          "execution_count": 48
        }
      ]
    },
    {
      "cell_type": "code",
      "metadata": {
        "colab": {
          "base_uri": "https://localhost:8080/"
        },
        "id": "qUj4CkntZBep",
        "outputId": "f983d84c-e31e-4ff1-e6e3-3036405c610e"
      },
      "source": [
        "type(game)"
      ],
      "execution_count": null,
      "outputs": [
        {
          "output_type": "execute_result",
          "data": {
            "text/plain": [
              "bool"
            ]
          },
          "metadata": {
            "tags": []
          },
          "execution_count": 49
        }
      ]
    },
    {
      "cell_type": "code",
      "metadata": {
        "id": "0p3Ldss7ZN1F"
      },
      "source": [
        "list=['name', 'time', 'carrots'] "
      ],
      "execution_count": null,
      "outputs": []
    },
    {
      "cell_type": "code",
      "metadata": {
        "colab": {
          "base_uri": "https://localhost:8080/"
        },
        "id": "WdWwfVR3ZcoD",
        "outputId": "77d1d0a6-2e5a-41a7-84c3-3600934a8373"
      },
      "source": [
        "list"
      ],
      "execution_count": null,
      "outputs": [
        {
          "output_type": "execute_result",
          "data": {
            "text/plain": [
              "['name', 'time', 'carrots']"
            ]
          },
          "metadata": {
            "tags": []
          },
          "execution_count": 54
        }
      ]
    },
    {
      "cell_type": "markdown",
      "metadata": {
        "id": "nZfdArrLZmf2"
      },
      "source": [
        "Create 10 list, 10 bool, 10 floats"
      ]
    },
    {
      "cell_type": "code",
      "metadata": {
        "id": "DWIF_fCGZpdx"
      },
      "source": [
        "num=1.1\n",
        "num2=2.2\n",
        "num3=3.3\n",
        "num4=4.4\n",
        "num5=5.5\n",
        "num6=6.6\n",
        "num7=7.7\n",
        "num8=8.8\n",
        "num9=9.9\n",
        "num10=10.10\n"
      ],
      "execution_count": null,
      "outputs": []
    },
    {
      "cell_type": "code",
      "metadata": {
        "colab": {
          "base_uri": "https://localhost:8080/"
        },
        "id": "4RVTZA8uZ3Km",
        "outputId": "c525ebb2-1efa-43a5-ddc4-541696417f93"
      },
      "source": [
        "num\n"
      ],
      "execution_count": null,
      "outputs": [
        {
          "output_type": "execute_result",
          "data": {
            "text/plain": [
              "1.1"
            ]
          },
          "metadata": {
            "tags": []
          },
          "execution_count": 65
        }
      ]
    },
    {
      "cell_type": "code",
      "metadata": {
        "colab": {
          "base_uri": "https://localhost:8080/"
        },
        "id": "WlJw-OIeZ7PY",
        "outputId": "3b98fe18-1cda-466f-a658-cb749a711b05"
      },
      "source": [
        "num2"
      ],
      "execution_count": null,
      "outputs": [
        {
          "output_type": "execute_result",
          "data": {
            "text/plain": [
              "2.2"
            ]
          },
          "metadata": {
            "tags": []
          },
          "execution_count": 66
        }
      ]
    },
    {
      "cell_type": "code",
      "metadata": {
        "id": "5kWbm9CcZ_-T"
      },
      "source": [
        "list = [1,2,3]\n",
        "list2 = [4,5,6]\n",
        "list3 = [7,8,9]\n",
        "list4 = [\"hello\",\"world\"]\n",
        "list5 = [\"list\", \"list2\"]\n",
        "list6 = [23,42,66]\n",
        "list7 = [78,92,56]\n",
        "list8 = ['yes', 'no']\n",
        "list9 = ['yes', 'or', 'yes']\n"
      ],
      "execution_count": null,
      "outputs": []
    },
    {
      "cell_type": "code",
      "metadata": {
        "colab": {
          "base_uri": "https://localhost:8080/"
        },
        "id": "EwBFtAjFbt4A",
        "outputId": "a2e2328e-9313-4593-f07a-f7ad71ef3472"
      },
      "source": [
        "list9"
      ],
      "execution_count": null,
      "outputs": [
        {
          "output_type": "execute_result",
          "data": {
            "text/plain": [
              "['yes', 'or', 'yes']"
            ]
          },
          "metadata": {
            "tags": []
          },
          "execution_count": 80
        }
      ]
    },
    {
      "cell_type": "code",
      "metadata": {
        "id": "98IQKTIMaZn9"
      },
      "source": [
        "hello=True\n",
        "goodbye=False\n",
        "yes=True\n",
        "no=False\n",
        "\n",
        "\n"
      ],
      "execution_count": null,
      "outputs": []
    }
  ]
}