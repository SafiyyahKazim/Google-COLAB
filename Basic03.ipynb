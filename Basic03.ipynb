{
  "nbformat": 4,
  "nbformat_minor": 0,
  "metadata": {
    "colab": {
      "name": "Basic03.ipynb",
      "provenance": [],
      "authorship_tag": "ABX9TyNRHmie+NhLpkq+Fo9pyznO",
      "include_colab_link": true
    },
    "kernelspec": {
      "name": "python3",
      "display_name": "Python 3"
    }
  },
  "cells": [
    {
      "cell_type": "markdown",
      "metadata": {
        "id": "view-in-github",
        "colab_type": "text"
      },
      "source": [
        "<a href=\"https://colab.research.google.com/github/SafiyyahKazim/Google-COLAB/blob/master/Basic03.ipynb\" target=\"_parent\"><img src=\"https://colab.research.google.com/assets/colab-badge.svg\" alt=\"Open In Colab\"/></a>"
      ]
    },
    {
      "cell_type": "code",
      "metadata": {
        "colab": {
          "base_uri": "https://localhost:8080/"
        },
        "id": "lxo45mcPV0Zl",
        "outputId": "3d59083a-269d-4e94-8c3b-5ddab8f21e0a"
      },
      "source": [
        "for x in 'cuny':\n",
        "  print(x)"
      ],
      "execution_count": 1,
      "outputs": [
        {
          "output_type": "stream",
          "text": [
            "c\n",
            "u\n",
            "n\n",
            "y\n"
          ],
          "name": "stdout"
        }
      ]
    },
    {
      "cell_type": "code",
      "metadata": {
        "colab": {
          "base_uri": "https://localhost:8080/"
        },
        "id": "Uy8zVh23WeOt",
        "outputId": "9d7f5467-dedc-4edc-8bdf-b2971376f9ab"
      },
      "source": [
        "tvshows = ['star trek', 'game of throne', 'stranger things']#we start by defining a list\n",
        "\n",
        "for show in tvshows:# define a for loop, this tells pyhton to pull a name from the list tvshows and store the variable in show\n",
        "  \n",
        "  print(show)#print the tvshows that were just stored in show\n",
        "  \n",
        "  #repeats items 2 and 3 until all of the tvshows are printed"
      ],
      "execution_count": 19,
      "outputs": [
        {
          "output_type": "stream",
          "text": [
            "star trek\n",
            "game of throne\n",
            "stranger things\n"
          ],
          "name": "stdout"
        }
      ]
    },
    {
      "cell_type": "code",
      "metadata": {
        "colab": {
          "base_uri": "https://localhost:8080/"
        },
        "id": "2RLG3f2YW-Li",
        "outputId": "a7687392-b44a-4191-8fe0-52d0e015aa73"
      },
      "source": [
        "family = ['mom','dad','grandma','grandpa','auntie1','auntie2','auntie3','uncle1','uncle2','sister','brother','cousin1','cousin2','cousin3','nephew1','nephew2','niece1','niece2','great-grandma','great-grandpa']\n",
        "print(family[2:4])\n",
        "print(family[0:3])\n",
        "print(family[6:10])\n",
        "print(family[2:])\n",
        "print(family[-2])\n",
        "print(family[-1])\n",
        "print(family[6:9])\n",
        "print(family[2:8])\n",
        "print(family[-3])\n",
        "print(family[:3])"
      ],
      "execution_count": 116,
      "outputs": [
        {
          "output_type": "stream",
          "text": [
            "['grandma', 'grandpa']\n",
            "['mom', 'dad', 'grandma']\n",
            "['auntie3', 'uncle1', 'uncle2', 'sister']\n",
            "['grandma', 'grandpa', 'auntie1', 'auntie2', 'auntie3', 'uncle1', 'uncle2', 'sister', 'brother', 'cousin1', 'cousin2', 'cousin3', 'nephew1', 'nephew2', 'niece1', 'niece2', 'great-grandma', 'great-grandpa']\n",
            "great-grandma\n",
            "great-grandpa\n",
            "['auntie3', 'uncle1', 'uncle2']\n",
            "['grandma', 'grandpa', 'auntie1', 'auntie2', 'auntie3', 'uncle1']\n",
            "niece2\n",
            "['mom', 'dad', 'grandma']\n"
          ],
          "name": "stdout"
        }
      ]
    },
    {
      "cell_type": "code",
      "metadata": {
        "colab": {
          "base_uri": "https://localhost:8080/"
        },
        "id": "G_N1eJ_iX-fW",
        "outputId": "6a54abd1-d43f-4239-fa5f-19925c195758"
      },
      "source": [
        "for num in range (1,11):\n",
        "  print(num)"
      ],
      "execution_count": 33,
      "outputs": [
        {
          "output_type": "stream",
          "text": [
            "1\n",
            "2\n",
            "3\n",
            "4\n",
            "5\n",
            "6\n",
            "7\n",
            "8\n",
            "9\n",
            "10\n"
          ],
          "name": "stdout"
        }
      ]
    },
    {
      "cell_type": "code",
      "metadata": {
        "colab": {
          "base_uri": "https://localhost:8080/"
        },
        "id": "ec6x4nv-cerV",
        "outputId": "2de06582-1fb1-4feb-e75f-f36cd1701c62"
      },
      "source": [
        "numbers=list(range(1,11))\n",
        "print(numbers)"
      ],
      "execution_count": 35,
      "outputs": [
        {
          "output_type": "stream",
          "text": [
            "[1, 2, 3, 4, 5, 6, 7, 8, 9, 10]\n"
          ],
          "name": "stdout"
        }
      ]
    },
    {
      "cell_type": "markdown",
      "metadata": {
        "id": "6SQvYVryeyqP"
      },
      "source": [
        "how to make find odd numbers"
      ]
    },
    {
      "cell_type": "code",
      "metadata": {
        "id": "Z2gLDDrcdLuU"
      },
      "source": [
        "odd = []\n",
        "for num in range(1,11):\n",
        "  num = int(input(\"Enter a number: \"))\n",
        "  if num % 2!=0:\n",
        "    print(\" is an Even number\")\n",
        "else:\n",
        "    print(\"is an Odd number\")\n"
      ],
      "execution_count": null,
      "outputs": []
    },
    {
      "cell_type": "code",
      "metadata": {
        "colab": {
          "base_uri": "https://localhost:8080/"
        },
        "id": "yKB_qfDrdRWD",
        "outputId": "072ed9a2-5ff0-4827-cb2c-7b858548ca5c"
      },
      "source": [
        "numbers= list(range(1,17,2))\n",
        "num = int(input(\"Enter a number: \")) \n",
        "if (num % 2) == 0:  \n",
        "   print(\"is Even number\")  \n",
        "else:  \n",
        "   print(\"is Odd number\")"
      ],
      "execution_count": 51,
      "outputs": [
        {
          "output_type": "stream",
          "text": [
            "Enter a number: 6\n",
            "is Even number\n"
          ],
          "name": "stdout"
        }
      ]
    },
    {
      "cell_type": "code",
      "metadata": {
        "id": "5uPgupTXeomy"
      },
      "source": [
        "number = int(input(\"Enter a number pls:\")\n",
        "if number%2 == 0:\n",
        "  print(f\"{number} in even\")#f string\n",
        "else:\n",
        "  print(\"{0} is Odd\".format(number))#dot format method"
      ],
      "execution_count": null,
      "outputs": []
    },
    {
      "cell_type": "markdown",
      "metadata": {
        "id": "rhGQo6tutPk2"
      },
      "source": [
        "how to find prime number"
      ]
    },
    {
      "cell_type": "code",
      "metadata": {
        "id": "TEJtk6Icghl6"
      },
      "source": [
        "number = int(input(\"Enter a number \"))\n",
        "if num > 1:\n",
        "   for i in range(2,num):\n",
        "       if (num % i) == 0:\n",
        "           print(num,\"is a prime number\")\n",
        "       else:\n",
        "        print(num, \"is not a prime number\")"
      ],
      "execution_count": null,
      "outputs": []
    },
    {
      "cell_type": "code",
      "metadata": {
        "id": "rVasgjofh8gI"
      },
      "source": [
        "number = 2\n",
        "while (number < 100):\n",
        "  num = 2\n",
        "  while (num <= (number/num)):\n",
        "    if not(number%num): break\n",
        "    num=number + 1\n",
        "if (num > (number/num)):\n",
        "  print(number)\n",
        "  number = number +1"
      ],
      "execution_count": null,
      "outputs": []
    },
    {
      "cell_type": "code",
      "metadata": {
        "id": "OfxfVnNwjdro"
      },
      "source": [
        "n=int(input(\"enter a number greater than 1: \"))\n",
        "#n is the variable and you will be inputting numbers into\n",
        "Match=True\n",
        "\n",
        "for num in range(2,n):\n",
        "#range of 2 and n, also a for loop\n",
        "  n%num\n",
        "#i guess to make it divisible\n",
        "  if n%num==0:\n",
        "  # if loop to\n",
        "    Match=False\n",
        "if Match:\n",
        "  print(\"num is prime\")\n",
        "  # if false it will say num is prime\n",
        "\n",
        "else:\n",
        "  print(\"name is not prime\")"
      ],
      "execution_count": null,
      "outputs": []
    },
    {
      "cell_type": "code",
      "metadata": {
        "id": "Jxk6ArGXkab8"
      },
      "source": [
        "for num in range(2,101):\n",
        "  if all(num%i!=0 for i in range(2, num)):\n",
        "    print(num)"
      ],
      "execution_count": null,
      "outputs": []
    },
    {
      "cell_type": "code",
      "metadata": {
        "id": "pqPeqlphnJkj"
      },
      "source": [
        "n=int(input(\"enter the range: \"))\n",
        "for k in range(2,n+1):\n",
        "  for i in range(2,n):\n",
        "    if (k % i)!=0:\n",
        "      print(k)\n",
        "      break\n",
        "    else:\n",
        "        print(\"{}not prime\".format(k))\n",
        "        break"
      ],
      "execution_count": null,
      "outputs": []
    },
    {
      "cell_type": "code",
      "metadata": {
        "colab": {
          "base_uri": "https://localhost:8080/"
        },
        "id": "5X_0KP5UsHEX",
        "outputId": "51065893-da53-4bd5-c312-31d65dde3b2c"
      },
      "source": [
        "tvshows = ['star trek', 'game of thrones','stranger things', 'big bang theory', 'black mirror']\n",
        "print(tvshows[0:3])\n",
        "print(tvshows[2:4])\n",
        "print(tvshows[:3])\n",
        "print(tvshows[2:])\n",
        "print(tvshows[-2:])"
      ],
      "execution_count": 97,
      "outputs": [
        {
          "output_type": "stream",
          "text": [
            "['star trek', 'game of thrones', 'stranger things']\n",
            "['stranger things', 'big bang theory']\n",
            "['star trek', 'game of thrones', 'stranger things']\n",
            "['stranger things', 'big bang theory', 'black mirror']\n",
            "['big bang theory', 'black mirror']\n"
          ],
          "name": "stdout"
        }
      ]
    },
    {
      "cell_type": "code",
      "metadata": {
        "id": "SOsl49BjwRjU"
      },
      "source": [
        ""
      ],
      "execution_count": null,
      "outputs": []
    }
  ]
}