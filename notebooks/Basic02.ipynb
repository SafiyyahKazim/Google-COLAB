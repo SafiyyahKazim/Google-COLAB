{
  "nbformat": 4,
  "nbformat_minor": 0,
  "metadata": {
    "colab": {
      "name": "Basic02.ipynb",
      "provenance": [],
      "collapsed_sections": [],
      "authorship_tag": "ABX9TyORlz+bktDnhcCZ7ObrPTPX",
      "include_colab_link": true
    },
    "kernelspec": {
      "name": "python3",
      "display_name": "Python 3"
    }
  },
  "cells": [
    {
      "cell_type": "markdown",
      "metadata": {
        "id": "view-in-github",
        "colab_type": "text"
      },
      "source": [
        "<a href=\"https://colab.research.google.com/github/SafiyyahKazim/Google-COLAB/blob/master/Basic02.ipynb\" target=\"_parent\"><img src=\"https://colab.research.google.com/assets/colab-badge.svg\" alt=\"Open In Colab\"/></a>"
      ]
    },
    {
      "cell_type": "code",
      "metadata": {
        "id": "RsylDQvObK_4"
      },
      "source": [
        "movies=['star wars','star trek','lord of the rings','avengers','avatar','Soul', 'pixel perfect']\n"
      ],
      "execution_count": null,
      "outputs": []
    },
    {
      "cell_type": "code",
      "metadata": {
        "colab": {
          "base_uri": "https://localhost:8080/"
        },
        "id": "mpH5R7jRbvoo",
        "outputId": "bc96e07e-1ffd-46e8-f10d-c0ce224b7979"
      },
      "source": [
        "print(movies[2])"
      ],
      "execution_count": null,
      "outputs": [
        {
          "output_type": "stream",
          "text": [
            "lord of the rings\n"
          ],
          "name": "stdout"
        }
      ]
    },
    {
      "cell_type": "code",
      "metadata": {
        "colab": {
          "base_uri": "https://localhost:8080/"
        },
        "id": "ndoDJETrb10D",
        "outputId": "da729935-24e3-4076-bf3b-3b0cb13ed96f"
      },
      "source": [
        "print(movies[4][5])"
      ],
      "execution_count": null,
      "outputs": [
        {
          "output_type": "stream",
          "text": [
            "r\n"
          ],
          "name": "stdout"
        }
      ]
    },
    {
      "cell_type": "markdown",
      "metadata": {
        "id": "9cJADhJooY0t"
      },
      "source": [
        "write a message with movies as uppercase letters"
      ]
    },
    {
      "cell_type": "code",
      "metadata": {
        "colab": {
          "base_uri": "https://localhost:8080/"
        },
        "id": "-MUICyRYb8Au",
        "outputId": "b3180065-4b41-4863-cc01-d5ecb170d5ec"
      },
      "source": [
        "message=\"My favorite movie is \" + movies[3].upper() + \"!!!\"\n",
        "print(message)"
      ],
      "execution_count": null,
      "outputs": [
        {
          "output_type": "stream",
          "text": [
            "My favorite movie is AVENGERS!!!\n"
          ],
          "name": "stdout"
        }
      ]
    },
    {
      "cell_type": "markdown",
      "metadata": {
        "id": "DMybLPIhdbHs"
      },
      "source": [
        "so print a specific letter or number in the index "
      ]
    },
    {
      "cell_type": "code",
      "metadata": {
        "colab": {
          "base_uri": "https://localhost:8080/"
        },
        "id": "BO-ddLRqcpnL",
        "outputId": "a0472182-c65f-415d-9948-300ab1f487dc"
      },
      "source": [
        "print(movies[2][1])"
      ],
      "execution_count": null,
      "outputs": [
        {
          "output_type": "stream",
          "text": [
            "o\n"
          ],
          "name": "stdout"
        }
      ]
    },
    {
      "cell_type": "markdown",
      "metadata": {
        "id": "LnerDm2Idraf"
      },
      "source": [
        "to print the length of the title"
      ]
    },
    {
      "cell_type": "code",
      "metadata": {
        "colab": {
          "base_uri": "https://localhost:8080/"
        },
        "id": "iNJ25sCEdRwT",
        "outputId": "ec580870-9b51-476d-de78-6c1179dbf91e"
      },
      "source": [
        "len(movies[0])"
      ],
      "execution_count": null,
      "outputs": [
        {
          "output_type": "execute_result",
          "data": {
            "text/plain": [
              "9"
            ]
          },
          "metadata": {
            "tags": []
          },
          "execution_count": 11
        }
      ]
    },
    {
      "cell_type": "code",
      "metadata": {
        "id": "uE0iNLTGdUDa"
      },
      "source": [
        "movies[4]='Avatar'"
      ],
      "execution_count": null,
      "outputs": []
    },
    {
      "cell_type": "code",
      "metadata": {
        "colab": {
          "base_uri": "https://localhost:8080/"
        },
        "id": "BKetD6r1jDQc",
        "outputId": "37e70195-4a68-4d5e-e34e-ed34aba33f85"
      },
      "source": [
        "print(movies)"
      ],
      "execution_count": null,
      "outputs": [
        {
          "output_type": "stream",
          "text": [
            "['star wars', 'star trek', 'lord of the rings', 'avengers', 'avatar', 'Soul', 'pixel perfect']\n"
          ],
          "name": "stdout"
        }
      ]
    },
    {
      "cell_type": "code",
      "metadata": {
        "id": "ncy_iDe5jGS5"
      },
      "source": [
        "movies.append('Borat')"
      ],
      "execution_count": null,
      "outputs": []
    },
    {
      "cell_type": "code",
      "metadata": {
        "colab": {
          "base_uri": "https://localhost:8080/"
        },
        "id": "pHs1O4-jjSQr",
        "outputId": "597a2590-17e9-4044-ffb3-90f6130f46f9"
      },
      "source": [
        "print(movies)"
      ],
      "execution_count": null,
      "outputs": [
        {
          "output_type": "stream",
          "text": [
            "['star wars', 'star trek', 'lord of the rings', 'avengers', 'avatar', 'Soul', 'pixel perfect', 'Borat']\n"
          ],
          "name": "stdout"
        }
      ]
    },
    {
      "cell_type": "code",
      "metadata": {
        "id": "PL5Wli--jVEc"
      },
      "source": [
        "movies.insert(2,'Dunkirk')"
      ],
      "execution_count": null,
      "outputs": []
    },
    {
      "cell_type": "code",
      "metadata": {
        "colab": {
          "base_uri": "https://localhost:8080/"
        },
        "id": "KF5vq5mkjgSP",
        "outputId": "7232d65f-3761-4051-cfdc-14a695ba5315"
      },
      "source": [
        "print(movies)"
      ],
      "execution_count": null,
      "outputs": [
        {
          "output_type": "stream",
          "text": [
            "['star wars', 'star trek', 'Dunkirk', 'lord of the rings', 'avengers', 'avatar', 'Soul', 'pixel perfect', 'Borat']\n"
          ],
          "name": "stdout"
        }
      ]
    },
    {
      "cell_type": "code",
      "metadata": {
        "colab": {
          "base_uri": "https://localhost:8080/"
        },
        "id": "XGwgE1Lyji1g",
        "outputId": "af92b4b9-2bb5-4ea8-d4a6-078f2203a3e0"
      },
      "source": [
        "movies"
      ],
      "execution_count": null,
      "outputs": [
        {
          "output_type": "execute_result",
          "data": {
            "text/plain": [
              "['star wars',\n",
              " 'star trek',\n",
              " 'Dunkirk',\n",
              " 'lord of the rings',\n",
              " 'avengers',\n",
              " 'avatar',\n",
              " 'Soul',\n",
              " 'pixel perfect',\n",
              " 'Borat']"
            ]
          },
          "metadata": {
            "tags": []
          },
          "execution_count": 51
        }
      ]
    },
    {
      "cell_type": "code",
      "metadata": {
        "colab": {
          "base_uri": "https://localhost:8080/"
        },
        "id": "Y7gOQf3GjjvX",
        "outputId": "166a289b-6228-4b22-e057-5a1f5e64c5cb"
      },
      "source": [
        "movies = ['star wars','star trek','lord of the rings','avengers','avatar','soul', 'pixel perfect']\n",
        "movies"
      ],
      "execution_count": null,
      "outputs": [
        {
          "output_type": "execute_result",
          "data": {
            "text/plain": [
              "['star wars',\n",
              " 'star trek',\n",
              " 'lord of the rings',\n",
              " 'avengers',\n",
              " 'avatar',\n",
              " 'soul',\n",
              " 'pixel perfect']"
            ]
          },
          "metadata": {
            "tags": []
          },
          "execution_count": 58
        }
      ]
    },
    {
      "cell_type": "code",
      "metadata": {
        "colab": {
          "base_uri": "https://localhost:8080/"
        },
        "id": "OXltCtJjlalE",
        "outputId": "e2dd91f6-e985-45de-b6b5-4ab0a43872f4"
      },
      "source": [
        "print(movies)\n",
        "del movies[0]\n",
        "print(movies)"
      ],
      "execution_count": null,
      "outputs": [
        {
          "output_type": "stream",
          "text": [
            "['star wars', 'star trek', 'lord of the rings', 'avengers', 'avatar', 'soul', 'pixel perfect']\n",
            "['star trek', 'lord of the rings', 'avengers', 'avatar', 'soul', 'pixel perfect']\n"
          ],
          "name": "stdout"
        }
      ]
    },
    {
      "cell_type": "code",
      "metadata": {
        "id": "q_CSTDbimZht"
      },
      "source": [
        "print(movies)\n",
        "movies.sort()\n",
        "print(movies)"
      ],
      "execution_count": null,
      "outputs": []
    },
    {
      "cell_type": "code",
      "metadata": {
        "colab": {
          "base_uri": "https://localhost:8080/"
        },
        "id": "2OYRCiU-oL_v",
        "outputId": "a6edab61-109f-412a-c2c8-965736ad428b"
      },
      "source": [
        "print(movies)\n",
        "movies.sort(reverse=True)\n",
        "print(movies)"
      ],
      "execution_count": null,
      "outputs": [
        {
          "output_type": "stream",
          "text": [
            "['avatar', 'avengers', 'lord of the rings', 'pixel perfect', 'soul', 'star trek']\n",
            "['star trek', 'soul', 'pixel perfect', 'lord of the rings', 'avengers', 'avatar']\n"
          ],
          "name": "stdout"
        }
      ]
    },
    {
      "cell_type": "code",
      "metadata": {
        "colab": {
          "base_uri": "https://localhost:8080/"
        },
        "id": "2FFhrIceolkC",
        "outputId": "06fd9ec8-3cf7-422b-e361-70a8d5ec7091"
      },
      "source": [
        "print(movies)\n",
        "len(movies)"
      ],
      "execution_count": null,
      "outputs": [
        {
          "output_type": "stream",
          "text": [
            "['star trek', 'soul', 'pixel perfect', 'lord of the rings', 'avengers', 'avatar']\n"
          ],
          "name": "stdout"
        },
        {
          "output_type": "execute_result",
          "data": {
            "text/plain": [
              "6"
            ]
          },
          "metadata": {
            "tags": []
          },
          "execution_count": 62
        }
      ]
    },
    {
      "cell_type": "code",
      "metadata": {
        "colab": {
          "base_uri": "https://localhost:8080/"
        },
        "id": "cH18lbXcowrC",
        "outputId": "537dca88-1f78-4cf2-f689-6d311254c5ef"
      },
      "source": [
        "print(movies)\n",
        "print(sorted(movies))\n",
        "print(movies)"
      ],
      "execution_count": null,
      "outputs": [
        {
          "output_type": "stream",
          "text": [
            "['star trek', 'soul', 'pixel perfect', 'lord of the rings', 'avengers', 'avatar']\n",
            "['avatar', 'avengers', 'lord of the rings', 'pixel perfect', 'soul', 'star trek']\n",
            "['star trek', 'soul', 'pixel perfect', 'lord of the rings', 'avengers', 'avatar']\n"
          ],
          "name": "stdout"
        }
      ]
    },
    {
      "cell_type": "code",
      "metadata": {
        "colab": {
          "base_uri": "https://localhost:8080/"
        },
        "id": "5gF_Ls33qZBu",
        "outputId": "656af5fc-0a36-42c0-a596-d43d380d68d0"
      },
      "source": [
        "age = 19\n",
        "if age >=18:\n",
        "  print(\"You're old enough to vote!\")\n",
        "else:\n",
        "  print(\"Not old enough!\")\n"
      ],
      "execution_count": null,
      "outputs": [
        {
          "output_type": "stream",
          "text": [
            "You're old enough to vote!\n"
          ],
          "name": "stdout"
        }
      ]
    },
    {
      "cell_type": "code",
      "metadata": {
        "colab": {
          "base_uri": "https://localhost:8080/"
        },
        "id": "ecR3qk2RuXJe",
        "outputId": "62c18ce6-baec-43d1-9e65-a765956a13c4"
      },
      "source": [
        "age = 17\n",
        "if age >=18:\n",
        "  print(\"You're old enough to vote!\")\n",
        "else:\n",
        "  print(\"Not old enough!\")"
      ],
      "execution_count": null,
      "outputs": [
        {
          "output_type": "stream",
          "text": [
            "Not old enough!\n"
          ],
          "name": "stdout"
        }
      ]
    },
    {
      "cell_type": "code",
      "metadata": {
        "colab": {
          "base_uri": "https://localhost:8080/"
        },
        "id": "i4Q4jBUKvE-1",
        "outputId": "c4c50296-b85f-4cfc-9f8d-cc03959b888b"
      },
      "source": [
        "age=32\n",
        "\n",
        "if age <5:\n",
        "  print(\"Admission price is free\")\n",
        "elif age < 18:\n",
        "    print(\"Admission price is $5\")\n",
        "else:\n",
        "      print(\"Admission price is $10\")"
      ],
      "execution_count": null,
      "outputs": [
        {
          "output_type": "stream",
          "text": [
            "Admission price is $10\n"
          ],
          "name": "stdout"
        }
      ]
    },
    {
      "cell_type": "code",
      "metadata": {
        "colab": {
          "base_uri": "https://localhost:8080/"
        },
        "id": "pRGTY1FUvt2X",
        "outputId": "0d6786dc-9073-464a-9f98-2711d3ac1917"
      },
      "source": [
        "name = input(\"Enter your name: \")\n",
        "print(name)"
      ],
      "execution_count": null,
      "outputs": [
        {
          "output_type": "stream",
          "text": [
            "Enter your name: Safiyyah Kazim\n",
            "Safiyyah Kazim\n"
          ],
          "name": "stdout"
        }
      ]
    },
    {
      "cell_type": "markdown",
      "metadata": {
        "id": "D2B-7fehBxbj"
      },
      "source": [
        "to end an input or answer a questions sort of "
      ]
    },
    {
      "cell_type": "code",
      "metadata": {
        "colab": {
          "base_uri": "https://localhost:8080/"
        },
        "id": "jOh43n_Nw036",
        "outputId": "3871557a-0292-4cb9-b385-d96942983395"
      },
      "source": [
        "age= int (input(\"Enter your age? \"))\n",
        "if age < 5:\n",
        "  print(\"Admission price is free\")\n",
        "elif age < 18:\n",
        "  print(\"Admission price is $5\")\n",
        "else:\n",
        "    print(\"Admission price is $10\")\n"
      ],
      "execution_count": null,
      "outputs": [
        {
          "output_type": "stream",
          "text": [
            "Enter your age? 18\n",
            "Admission price is $10\n"
          ],
          "name": "stdout"
        }
      ]
    },
    {
      "cell_type": "markdown",
      "metadata": {
        "id": "tRE07FtjBsDy"
      },
      "source": [
        "more optimized approach, end result is a complete string."
      ]
    },
    {
      "cell_type": "code",
      "metadata": {
        "colab": {
          "base_uri": "https://localhost:8080/"
        },
        "id": "WLGP3cZbxIxJ",
        "outputId": "470e1ccd-139b-4451-d46b-df48406f0af2"
      },
      "source": [
        "age=17\n",
        "\n",
        "if age < 4:\n",
        "    price = 0\n",
        "\n",
        "elif age < 18:\n",
        "    price = 5\n",
        "\n",
        "else:\n",
        "    price = 10\n",
        "print (\"Admission price is: \" + str(price))    "
      ],
      "execution_count": null,
      "outputs": [
        {
          "output_type": "stream",
          "text": [
            "Admission price is: 5\n"
          ],
          "name": "stdout"
        }
      ]
    },
    {
      "cell_type": "markdown",
      "metadata": {
        "id": "QWuN8cpoCeig"
      },
      "source": [
        "Multiple condition, you need to check all the condition, if you do not have elif then they are all their own condtions"
      ]
    },
    {
      "cell_type": "code",
      "metadata": {
        "colab": {
          "base_uri": "https://localhost:8080/"
        },
        "id": "UnhyuM0SBqmY",
        "outputId": "eb20a849-a119-4dd7-ca38-8ce6b3a1c920"
      },
      "source": [
        "toppings = ['chocolate', 'sprinkles']\n",
        "\n",
        "if 'chocolate' in toppings:\n",
        "  print(\"adding chocolate\")\n",
        "if 'sprinkles' in toppings:\n",
        "  print(\"adding sprinkles\")\n",
        "if 'peanuts' in toppings:\n",
        "  print(\"adding peanuts\")"
      ],
      "execution_count": null,
      "outputs": [
        {
          "output_type": "stream",
          "text": [
            "adding chocolate\n",
            "adding sprinkles\n"
          ],
          "name": "stdout"
        }
      ]
    },
    {
      "cell_type": "markdown",
      "metadata": {
        "id": "8291SNmqF1H7"
      },
      "source": [
        "write a script that takes user input saves it into a variable and then compares if the item exist"
      ]
    },
    {
      "cell_type": "code",
      "metadata": {
        "colab": {
          "base_uri": "https://localhost:8080/"
        },
        "id": "zG6UQ5SICC_y",
        "outputId": "c6c96ff5-e4bd-4a7e-e3c9-86bef4a4d177"
      },
      "source": [
        "toppings2=['vanilla','chocolate']\n",
        "topping=input(\"Enter topping flavor \")\n",
        "for topping in toppings2:\n",
        "    if topping in toppings2:\n",
        "      print(\"the item is on the list\")\n",
        "    else:\n",
        "      print(\"Adding the following topping! \" + topping)#repeat until out of list\n",
        "      toppings2.append(topping) \n"
      ],
      "execution_count": null,
      "outputs": [
        {
          "output_type": "stream",
          "text": [
            "Enter topping flavor sprinkle\n",
            "the item is on the list\n",
            "the item is on the list\n"
          ],
          "name": "stdout"
        }
      ]
    },
    {
      "cell_type": "code",
      "metadata": {
        "id": "5jFIX7PeGDqB",
        "colab": {
          "base_uri": "https://localhost:8080/"
        },
        "outputId": "9fa15023-0b24-4566-8309-13e8ff55db30"
      },
      "source": [
        "print(toppings2)"
      ],
      "execution_count": null,
      "outputs": [
        {
          "output_type": "stream",
          "text": [
            "['vanilla', 'chocolate']\n"
          ],
          "name": "stdout"
        }
      ]
    },
    {
      "cell_type": "code",
      "metadata": {
        "id": "f_5T7cOMTt8q"
      },
      "source": [
        ""
      ],
      "execution_count": null,
      "outputs": []
    }
  ]
}